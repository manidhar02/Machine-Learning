{
 "cells": [
  {
   "cell_type": "markdown",
   "metadata": {},
   "source": [
    "# <span style=\"color:#0b486b\"> Machine Learning- Assignment Task -2 </span>\n",
    "\n",
    "Manidhar Reddy - \n",
    "217503382\n",
    "\n",
    "### Part-1-Data Munging\n",
    "\n",
    "#### 1.1 :"
   ]
  },
  {
   "cell_type": "code",
   "execution_count": 608,
   "metadata": {
    "collapsed": true
   },
   "outputs": [],
   "source": [
    "import numpy as num\n",
    "import pandas as pd\n",
    "from sklearn.preprocessing import scale\n",
    "from sklearn.linear_model import LogisticRegression\n",
    "from sklearn.metrics import recall_score\n",
    "from sklearn.metrics import f1_score\n",
    "from sklearn.metrics import confusion_matrix\n",
    "from sklearn.metrics import accuracy_score\n",
    "from sklearn.metrics import precision_score\n",
    "from sklearn import preprocessing\n",
    "from sklearn.cross_validation import train_test_split\n",
    "from sklearn.metrics import precision_recall_fscore_support as score\n",
    "import matplotlib.pyplot as plt\n",
    "%matplotlib inline"
   ]
  },
  {
   "cell_type": "code",
   "execution_count": 609,
   "metadata": {
    "collapsed": true
   },
   "outputs": [],
   "source": [
    "traindata = pd.read_csv(\"C:\\Users\\user\\Desktop\\ML python files\\Assessment-task-2\\data\\wisconsin_data/train_wbcd.csv\", delimiter=',')\n",
    "#print traindata\n",
    "\n",
    "testdata = pd.read_csv(\"C:\\Users\\user\\Desktop\\ML python files\\Assessment-task-2\\data\\wisconsin_data/test_wbcd.csv\", delimiter=',')\n",
    "#print testdata\n"
   ]
  },
  {
   "cell_type": "markdown",
   "metadata": {},
   "source": [
    "Printing the number of features in the dataset."
   ]
  },
  {
   "cell_type": "code",
   "execution_count": 610,
   "metadata": {},
   "outputs": [
    {
     "name": "stdout",
     "output_type": "stream",
     "text": [
      "Number of features in train data are : 30\n",
      "Number of features in test data are  : 30\n"
     ]
    }
   ],
   "source": [
    "train_feature = traindata.iloc[:,2:32]\n",
    "print \"Number of features in train data are :\",len(train_feature.T)\n",
    "\n",
    "test_feature = testdata.iloc[:,2:32]\n",
    "print \"Number of features in test data are  :\",len(test_feature.T)\n",
    "train_labels =  traindata.iloc[:,1]\n",
    "test_labels =  testdata.iloc[:,1]\n"
   ]
  },
  {
   "cell_type": "markdown",
   "metadata": {},
   "source": [
    "printing the total number of 1's and 0's in the training and testing data."
   ]
  },
  {
   "cell_type": "code",
   "execution_count": 611,
   "metadata": {},
   "outputs": [
    {
     "name": "stdout",
     "output_type": "stream",
     "text": [
      "No of 0's in train data is 42\n",
      "No of 1's in train data is 58\n",
      "No of 0's in test data is 4\n",
      "No of 1's in train data is 16\n"
     ]
    }
   ],
   "source": [
    "#Assuming B as 0's and M as 1's  \n",
    "def count(labels): \n",
    "    B_count = 0\n",
    "    M_count = 0\n",
    "    for count in range (len(labels)):\n",
    "        if train_labels[count] == 'M':\n",
    "            B_count+=1\n",
    "        else: \n",
    "            M_count+=1\n",
    "    return B_count,M_count\n",
    "\n",
    "B_count, M_count= count(train_labels)\n",
    "print \"No of 0's in train data is {}\".format(B_count)\n",
    "print \"No of 1's in train data is {}\".format(M_count)\n",
    "B_count, M_count= count (test_labels)\n",
    "print \"No of 0's in test data is {}\".format(B_count)\n",
    "print \"No of 1's in train data is {}\".format(M_count)\n"
   ]
  },
  {
   "cell_type": "markdown",
   "metadata": {},
   "source": [
    "Comment on class distibuton: In the rain data class distribution is slightly balanced.As we can see that occurences of both 0's and 1's are nearly 50%. Test data is unbalanced.Occurrences of 1's is high when compared to 0's.\n"
   ]
  },
  {
   "cell_type": "markdown",
   "metadata": {},
   "source": [
    "Printing the number of features with missing entries."
   ]
  },
  {
   "cell_type": "code",
   "execution_count": 621,
   "metadata": {},
   "outputs": [
    {
     "name": "stdout",
     "output_type": "stream",
     "text": [
      "Features with missing entries in training set:  1\n",
      "Features with missing entries in test set 1\n"
     ]
    }
   ],
   "source": [
    "train_wbcd = pd.read_csv('C:\\Users\\user\\Desktop\\ML python files\\Assessment-task-2\\data\\wisconsin_data/train_wbcd.csv', delimiter=',',header=0 ).values\n",
    "test_wbcd = pd.read_csv('C:\\Users\\user\\Desktop\\ML python files\\Assessment-task-2\\data\\wisconsin_data/test_wbcd.csv',delimiter=',',header=0 ).values\n",
    "x_trained=np.array(train_wbcd[0:100,2:32])\n",
    "x_tested=np.array(test_wbcd[0:20,2:32])\n",
    "null_train=num.count_nonzero(sum(pd.isnull(x_trained)))\n",
    "print \"Features with missing entries in training set: \",null_train\n",
    "null_test=num.count_nonzero(sum(pd.isnull(x_tested)))\n",
    "print \"Features with missing entries in test set\",null_test"
   ]
  },
  {
   "cell_type": "markdown",
   "metadata": {},
   "source": [
    "Fill the missing entries with the mean of the feature"
   ]
  },
  {
   "cell_type": "code",
   "execution_count": 558,
   "metadata": {},
   "outputs": [
    {
     "name": "stdout",
     "output_type": "stream",
     "text": [
      "Features with missing entries in training set :  0\n",
      "Median of train data feature F21 is: 15.315\n",
      "Median of train data feature F21 is: 15.315\n",
      "Features with missing entries in test set :  0\n"
     ]
    }
   ],
   "source": [
    "\n",
    "train_feature [\"f21\"] =train_feature [\"f21\"].fillna(train_feature [\"f21\"].median() )\n",
    "print \"Features with missing entries in training set : \",pd.isnull(train_feature).sum().sum()\n",
    "\n",
    "print \"Median of train data feature F21 is:\",train_feature [\"f21\"].median()\n",
    "test_feature [\"f21\"] =test_feature [\"f21\"].fillna(test_feature [\"f21\"].median() )\n",
    "\n",
    "print \"Median of train data feature F21 is:\",train_feature [\"f21\"].median()\n",
    "print \"Features with missing entries in test set : \",pd.isnull(test_feature).sum().sum()\n"
   ]
  },
  {
   "cell_type": "markdown",
   "metadata": {},
   "source": [
    "Normalizing the training and testing data."
   ]
  },
  {
   "cell_type": "code",
   "execution_count": 559,
   "metadata": {
    "collapsed": true
   },
   "outputs": [],
   "source": [
    "train_feature = scale(train_feature)\n",
    "#print train_feature"
   ]
  },
  {
   "cell_type": "code",
   "execution_count": 560,
   "metadata": {
    "collapsed": true
   },
   "outputs": [],
   "source": [
    "test_feature = scale(test_feature)\n",
    "#print test_feature"
   ]
  },
  {
   "cell_type": "markdown",
   "metadata": {},
   "source": [
    "### 1.2 Logistic Regression\n",
    "\n",
    "We have normalized the train and test data.Now we will be performing the logistic regression to the normalized data.<br />\n",
    "L1 regularization and L2 regularization using <br/> alpha = 0.1 <br/> lambda = 0.1"
   ]
  },
  {
   "cell_type": "code",
   "execution_count": 561,
   "metadata": {},
   "outputs": [
    {
     "name": "stdout",
     "output_type": "stream",
     "text": [
      "(100L, 30L)\n",
      "(100L,)\n",
      "(20L, 30L)\n",
      "(20L,)\n"
     ]
    }
   ],
   "source": [
    "#Logistic Regression of L1 penalty\n",
    "# initialize the logisitc regression model. \n",
    "my_model1 = LogisticRegression(C=10,penalty='l1')\n",
    "\n",
    "#Create the training/testing data and labels\n",
    "Xtrain = num.array(train_feature[:,:])\n",
    "ytrain = traindata.iloc[:,1]\n",
    "\n",
    "#lb = preprocessing.LabelBinarizer()\n",
    "#lb.fit(ytrain.values)\n",
    "\n",
    "Xtest = num.array(test_feature[:,:])\n",
    "ytest =  testdata.iloc[:,1]\n",
    "\n",
    "print Xtrain.shape\n",
    "print ytrain.shape\n",
    "print Xtest.shape\n",
    "print ytest.shape"
   ]
  },
  {
   "cell_type": "code",
   "execution_count": 562,
   "metadata": {},
   "outputs": [
    {
     "data": {
      "text/plain": [
       "LogisticRegression(C=10, class_weight=None, dual=False, fit_intercept=True,\n",
       "          intercept_scaling=1, max_iter=100, multi_class='ovr', n_jobs=1,\n",
       "          penalty='l1', random_state=None, solver='liblinear', tol=0.0001,\n",
       "          verbose=0, warm_start=False)"
      ]
     },
     "execution_count": 562,
     "metadata": {},
     "output_type": "execute_result"
    }
   ],
   "source": [
    "my_model1.fit(Xtrain, ytrain.values)"
   ]
  },
  {
   "cell_type": "code",
   "execution_count": 563,
   "metadata": {},
   "outputs": [
    {
     "name": "stdout",
     "output_type": "stream",
     "text": [
      "The true labels are       : ['B' 'M' 'B' 'B' 'B' 'M' 'B' 'M' 'B' 'M' 'M' 'B' 'B' 'B' 'B' 'B' 'B' 'B'\n",
      " 'B' 'M']\n",
      "\n",
      "Model predicted labels are: ['B' 'B' 'B' 'B' 'B' 'M' 'B' 'M' 'B' 'M' 'M' 'B' 'B' 'B' 'B' 'B' 'B' 'M'\n",
      " 'B' 'M']\n"
     ]
    }
   ],
   "source": [
    "predict_label1 = my_model1.predict(Xtest)\n",
    "\n",
    "#the original label is ytest\n",
    "true_label1 = ytest.values\n",
    "\n",
    "print \"The true labels are       : {}\".format(true_label1)\n",
    "print\n",
    "print \"Model predicted labels are: {}\".format(predict_label1)"
   ]
  },
  {
   "cell_type": "code",
   "execution_count": 564,
   "metadata": {},
   "outputs": [
    {
     "name": "stdout",
     "output_type": "stream",
     "text": [
      "Accuracy score is : 0.9\n",
      "Model accuracy is : 90.0%\n",
      "\n",
      "Confusion Matrix is :\n",
      "[[13  1]\n",
      " [ 1  5]]\n",
      "\n",
      "Precision score is : 0.9\n",
      "Recall score is:  0.9\n",
      "F1-Score is : 0.9\n"
     ]
    }
   ],
   "source": [
    "print \"Accuracy score is :\",accuracy_score(true_label1, predict_label1)\n",
    "print \"Model accuracy is : {}%\".format(num.round(accuracy_score(true_label1, predict_label1)*100, decimals=2))\n",
    "\n",
    "print\n",
    "\n",
    "print \"Confusion Matrix is :\"\n",
    "print confusion_matrix(true_label1, predict_label1, labels=[\"B\", \"M\"])\n",
    "print\n",
    "print \"Precision score is :\",precision_score(true_label1, predict_label1,labels=[\"B\",\"M\"],average='weighted')\n",
    "\n",
    "print \"Recall score is: \",recall_score(true_label1, predict_label1,labels=[\"B\",\"M\"],average='weighted')\n",
    "\n",
    "print \"F1-Score is :\",f1_score(true_label1, predict_label1,average='weighted')\n"
   ]
  },
  {
   "cell_type": "code",
   "execution_count": 565,
   "metadata": {
    "collapsed": true
   },
   "outputs": [],
   "source": [
    "#Logistic Regression of L2 penalty\n",
    "my_model2 = LogisticRegression(C=10,penalty='l2')\n"
   ]
  },
  {
   "cell_type": "code",
   "execution_count": 566,
   "metadata": {},
   "outputs": [
    {
     "data": {
      "text/plain": [
       "LogisticRegression(C=10, class_weight=None, dual=False, fit_intercept=True,\n",
       "          intercept_scaling=1, max_iter=100, multi_class='ovr', n_jobs=1,\n",
       "          penalty='l2', random_state=None, solver='liblinear', tol=0.0001,\n",
       "          verbose=0, warm_start=False)"
      ]
     },
     "execution_count": 566,
     "metadata": {},
     "output_type": "execute_result"
    }
   ],
   "source": [
    "my_model2.fit(Xtrain, ytrain.values)"
   ]
  },
  {
   "cell_type": "code",
   "execution_count": 567,
   "metadata": {},
   "outputs": [
    {
     "name": "stdout",
     "output_type": "stream",
     "text": [
      "The true labels are       : ['B' 'M' 'B' 'B' 'B' 'M' 'B' 'M' 'B' 'M' 'M' 'B' 'B' 'B' 'B' 'B' 'B' 'B'\n",
      " 'B' 'M']\n",
      "\n",
      "Model predicted labels are: ['B' 'B' 'B' 'B' 'B' 'M' 'B' 'M' 'B' 'M' 'M' 'B' 'B' 'B' 'B' 'B' 'B' 'M'\n",
      " 'B' 'M']\n"
     ]
    }
   ],
   "source": [
    "predict_label2 = my_model2.predict(Xtest)\n",
    "\n",
    "#the original label is ytest\n",
    "true_label2 = ytest.values\n",
    "\n",
    "print \"The true labels are       : {}\".format(true_label2)\n",
    "print\n",
    "print \"Model predicted labels are: {}\".format(predict_label2)"
   ]
  },
  {
   "cell_type": "code",
   "execution_count": 568,
   "metadata": {},
   "outputs": [
    {
     "name": "stdout",
     "output_type": "stream",
     "text": [
      "0.9\n",
      "Model accuracy is: 90.0%\n",
      "Confusion Matrix is :\n",
      "[[13  1]\n",
      " [ 1  5]]\n",
      "\n",
      "Precision score is : 0.9\n",
      "Recall score is:  0.9\n",
      "F1-Score is : 0.9\n"
     ]
    }
   ],
   "source": [
    "print accuracy_score(true_label2, predict_label2)\n",
    "print \"Model accuracy is: {}%\".format(num.round(accuracy_score(true_label2, predict_label2)*100, decimals=2))\n",
    "\n",
    "\n",
    "print \"Confusion Matrix is :\"\n",
    "print confusion_matrix(true_label2, predict_label2, labels=[\"B\", \"M\"])\n",
    "print\n",
    "print \"Precision score is :\",precision_score(true_label2, predict_label2,labels=[\"B\",\"M\"],average='weighted')\n",
    "\n",
    "print \"Recall score is: \",recall_score(true_label2, predict_label2,labels=[\"B\",\"M\"],average='weighted')\n",
    "\n",
    "print \"F1-Score is :\",f1_score(true_label2, predict_label2,average='weighted')"
   ]
  },
  {
   "cell_type": "markdown",
   "metadata": {},
   "source": [
    "#### 1.3 Choosing the correct hyper parameter"
   ]
  },
  {
   "cell_type": "code",
   "execution_count": 569,
   "metadata": {
    "collapsed": true
   },
   "outputs": [],
   "source": [
    "def besthyperparameter(val,regularization):\n",
    "    trials=100\n",
    "    c_val = 1/val\n",
    "    my_model = LogisticRegression(C=c_val,penalty=regularization)\n",
    "    model_accs  = num.zeros(trials)  # storing model accuracy\n",
    "    #model_wts   = num.zeros([trials, 31]) # storing model weights\n",
    "    \n",
    "    #print train_feature\n",
    "    #print traindata.iloc[:,1]\n",
    "    #print num.array(train_feature.join(traindata[:,1]))\n",
    "    #print train_feature\n",
    "    \n",
    "    for i in range(0,trials):\n",
    "    \n",
    "             \n",
    "        Dtrain, Dval = train_test_split((num.column_stack((train_feature,(traindata.iloc[:,1])))), test_size=0.3)\n",
    "    \n",
    "        #print Dtrain\n",
    "        #print Dval\n",
    "        Xtrain = num.array(Dtrain[:, 0:30])\n",
    "        ytrain = num.array(Dtrain[:,30])\n",
    "\n",
    "        #print Xtrain\n",
    "        #print ytrain\n",
    "        Xval = num.array(Dval[:, 0:30])\n",
    "        yval = num.array(Dval[:,30])\n",
    "                \n",
    "        my_model.fit(Xtrain,ytrain)\n",
    "        \n",
    "        ypredicts = my_model.predict(Xval)\n",
    "        ytruelabels = yval\n",
    "        model_accs[i]  = accuracy_score(yval, ypredicts)\n",
    "        \n",
    "    return num.mean(model_accs)"
   ]
  },
  {
   "cell_type": "code",
   "execution_count": 570,
   "metadata": {},
   "outputs": [
    {
     "name": "stdout",
     "output_type": "stream",
     "text": [
      "Accuracy Score when alpha is 0.1 using L1 model is : 0.981333333333\n",
      "Accuracy Score when alpha is 1 using L1 model is : 0.985\n",
      "Accuracy Score when alpha is 3 using L1 model is : 0.972333333333\n",
      "Accuracy Score when alpha is 10 using L1 model is : 0.937333333333\n",
      "Accuracy Score when alpha is 33 using L1 model is : 0.588666666667\n",
      "Accuracy Score when alpha is 100 using L1 model is : 0.581666666667\n",
      "Accuracy Score when alpha is 333 using L1 model is : 0.580666666667\n",
      "Accuracy Score when alpha is 1000 using L1 model is : 0.589333333333\n",
      "Accuracy Score when alpha is 3333 using L1 model is : 0.584333333333\n",
      "Accuracy Score when alpha is 10000 using L1 model is : 0.593333333333\n",
      "Accuracy Score when alpha is 33333 using L1 model is : 0.571\n",
      "Best Alpha: 1\n"
     ]
    }
   ],
   "source": [
    "alpha_vals = [0.1,1,3,10,33,100,333,1000, 3333, 10000, 33333]\n",
    "l1_acc = num.zeros(len(alpha_vals))\n",
    "index=0\n",
    "\n",
    "for l in alpha_vals:\n",
    "    l1_acc[index] = besthyperparameter(num.float(l),'l1')\n",
    "    index+=1\n",
    "\n",
    "index = 0\n",
    "for acc_val in alpha_vals:\n",
    "    print \"Accuracy Score when alpha is {} using L1 model is : {}\".format(alpha_vals[index],l1_acc[index])\n",
    "    index+=1\n",
    "    \n",
    "max_index_l1  = num.argmax(l1_acc)\n",
    "best_alpha = alpha_vals[max_index_l1]\n",
    "    \n",
    "print \"Best Alpha: {}\".format(best_alpha)"
   ]
  },
  {
   "cell_type": "markdown",
   "metadata": {},
   "source": [
    "#### Comments on Under fitting/Over-fitting for L1 regression\n",
    "\n",
    "We calculated the accuracy of the model using with the alpha values 0.1,1,3,10,33,100,333,1000, 3333,10000, 33333.We can observe that there is a raise in the accuracy score. But at caertain point where alpha= 3 the accuracy score will drops from 98.5% to 97% indicating that this model is responding highly for smaller change which shows that the model is overfitting\n"
   ]
  },
  {
   "cell_type": "code",
   "execution_count": 571,
   "metadata": {},
   "outputs": [
    {
     "name": "stdout",
     "output_type": "stream",
     "text": [
      "Accuracy Score when lambda is 0.001 using L2 model is : 0.989333333333\n",
      "Accuracy Score when lambda is 0.003 using L2 model is : 0.989666666667\n",
      "Accuracy Score when lambda is 0.01 using L2 model is : 0.992\n",
      "Accuracy Score when lambda is 0.03 using L2 model is : 0.991666666667\n",
      "Accuracy Score when lambda is 0.1 using L2 model is : 0.991333333333\n",
      "Accuracy Score when lambda is 0.3 using L2 model is : 0.992666666667\n",
      "Accuracy Score when lambda is 1 using L2 model is : 0.991333333333\n",
      "Accuracy Score when lambda is 3 using L2 model is : 0.99\n",
      "Accuracy Score when lambda is 10 using L2 model is : 0.986333333333\n",
      "Accuracy Score when lambda is 33 using L2 model is : 0.979\n",
      "Best Lambda: 0.3\n"
     ]
    }
   ],
   "source": [
    "lambda_vals = [0.001, 0.003, 0.01, 0.03, 0.1,0.3,1,3,10,33]\n",
    "l2_acc = num.zeros(len(lambda_vals))\n",
    "index=0\n",
    "\n",
    "for l in lambda_vals:\n",
    "    l2_acc[index] = besthyperparameter(num.float(l),'l2')\n",
    "    index+=1\n",
    "\n",
    "index = 0\n",
    "for acc_val in lambda_vals:\n",
    "    print \"Accuracy Score when lambda is {} using L2 model is : {}\".format(lambda_vals[index],l2_acc[index])\n",
    "    index+=1\n",
    "    \n",
    "max_index_l2  = num.argmax(l2_acc)\n",
    "best_lambda = lambda_vals[max_index_l2]\n",
    "    \n",
    "print \"Best Lambda: {}\".format(best_lambda)"
   ]
  },
  {
   "cell_type": "markdown",
   "metadata": {},
   "source": [
    "#### Comments on Under fitting/Over-fitting for L2 regression\n",
    "\n",
    "We calculated the accuracy of the model using with the alpha values 0.001, 0.003, 0.01, 0.03,0.1,0.3,1,3,10,33.We can observe that there is a constant in the accuracy score. But at caertain point where alpha=0.3  the accuracy score will increased slightly. The complexity of the model is increasing but accuracy is increasing very slightly which indicating that this model is  overfitting\n"
   ]
  },
  {
   "cell_type": "code",
   "execution_count": 572,
   "metadata": {
    "collapsed": true
   },
   "outputs": [],
   "source": [
    "def retrainModel(val,regularization):\n",
    "    \n",
    "    c_val=num.float(1/val)\n",
    "    my_model = LogisticRegression(C=c_val,penalty=regularization)\n",
    "\n",
    "    #Create the training/testing data and labels\n",
    "    Xtrain = num.array(train_feature[:,:])\n",
    "    ytrain = traindata.iloc[:,1]\n",
    "\n",
    "    Xtest = num.array(test_feature[:,:])\n",
    "    ytest = testdata.iloc[:,1]\n",
    "    \n",
    "    my_model.fit(Xtrain, ytrain.values)\n",
    "    \n",
    "    predict_label = my_model.predict(Xtest)\n",
    "\n",
    "    #the original label is ytest\n",
    "    true_label = ytest.values\n",
    "\n",
    "    model_weights   = my_model.coef_\n",
    "    weights = ((num.argsort(model_weights))[0])[::-1]\n",
    "    \n",
    "    print accuracy_score(true_label, predict_label)\n",
    "    print \"Model accuracy is: {}%\".format(num.round(accuracy_score(true_label, predict_label)*100, decimals=2))\n",
    "\n",
    "    print \"Confusion Matrix is :\"\n",
    "    print confusion_matrix(true_label, predict_label, labels=[\"B\", \"M\"])\n",
    "    print\n",
    "    print \"Precision score is :\",precision_score(true_label, predict_label,labels=[\"B\",\"M\"],average='weighted')\n",
    "\n",
    "    print \"Recall score is: \",recall_score(true_label, predict_label,labels=[\"B\",\"M\"],average='weighted')\n",
    "\n",
    "    print \"F1-Score is :\",f1_score(true_label, predict_label,average='weighted')\n",
    "    print\n",
    "    print \"Top 5 features selected in decreasing order of feature weights are:\"\n",
    "    print weights[0:5]+1"
   ]
  },
  {
   "cell_type": "code",
   "execution_count": 573,
   "metadata": {},
   "outputs": [
    {
     "name": "stdout",
     "output_type": "stream",
     "text": [
      "0.95\n",
      "Model accuracy is: 95.0%\n",
      "Confusion Matrix is :\n",
      "[[14  0]\n",
      " [ 1  5]]\n",
      "\n",
      "Precision score is : 0.953333333333\n",
      "Recall score is:  0.95\n",
      "F1-Score is : 0.948589341693\n",
      "\n",
      "Top 5 features selected in decreasing order of feature weights are:\n",
      "[23 21 22 25  8]\n"
     ]
    }
   ],
   "source": [
    "retrainModel(best_alpha,'l1')"
   ]
  },
  {
   "cell_type": "code",
   "execution_count": 574,
   "metadata": {},
   "outputs": [
    {
     "name": "stdout",
     "output_type": "stream",
     "text": [
      "0.9\n",
      "Model accuracy is: 90.0%\n",
      "Confusion Matrix is :\n",
      "[[13  1]\n",
      " [ 1  5]]\n",
      "\n",
      "Precision score is : 0.9\n",
      "Recall score is:  0.9\n",
      "F1-Score is : 0.9\n",
      "\n",
      "Top 5 features selected in decreasing order of feature weights are:\n",
      "[22  2 25 21 23]\n"
     ]
    }
   ],
   "source": [
    "retrainModel(best_lambda,'l2')"
   ]
  },
  {
   "cell_type": "markdown",
   "metadata": {},
   "source": [
    "## Part 2-Multi-class classification\n",
    "2.1 creating a default One-vs-Rest Classifier"
   ]
  },
  {
   "cell_type": "code",
   "execution_count": 575,
   "metadata": {},
   "outputs": [
    {
     "name": "stdout",
     "output_type": "stream",
     "text": [
      "Number of data points are : 2520\n",
      "Total Number of features in data are : 784\n",
      "Unique labels in the data are : [0 1 2 3 4 5 6 7 8 9]\n"
     ]
    }
   ],
   "source": [
    "data = pd.read_csv(\"C:\\Users\\user\\Desktop\\ML python files\\Assessment-task-2\\data/mnist/reduced_mnist.csv\", delimiter=',')\n",
    "print \"Number of data points are :\", len(data)\n",
    "\n",
    "data_feature = data.iloc[:,1:]\n",
    "print \"Total Number of features in data are :\",len(data_feature.T)\n",
    "\n",
    "unique_labels = num.unique(data.iloc[:,0])\n",
    "print \"Unique labels in the data are :\", unique_labels"
   ]
  },
  {
   "cell_type": "code",
   "execution_count": 576,
   "metadata": {},
   "outputs": [
    {
     "name": "stdout",
     "output_type": "stream",
     "text": [
      "1766\n",
      "754\n"
     ]
    }
   ],
   "source": [
    "msk = num.random.rand(len(data)) < 0.7\n",
    "\n",
    "train = data[msk]\n",
    "\n",
    "test = data[~msk]\n",
    "\n",
    "print len(train)\n",
    "print len(test)"
   ]
  },
  {
   "cell_type": "code",
   "execution_count": 577,
   "metadata": {
    "collapsed": true
   },
   "outputs": [],
   "source": [
    "def onevsrestClassifier(val):\n",
    "    c_val=num.float(1/val)\n",
    "    my_model = LogisticRegression(C=c_val,penalty='l1')\n",
    "\n",
    "    #Create the training/testing data and labels\n",
    "    Xtrain = train.iloc[:,:]\n",
    "    ytrain = train.iloc[:,0]\n",
    "\n",
    "    #lb = preprocessing.LabelBinarizer()\n",
    "    #lb.fit(ytrain.values)\n",
    "\n",
    "    Xtest = test.iloc[:,:]\n",
    "    ytest = test.iloc[:,0]\n",
    "    \n",
    "    my_model.fit(Xtrain.values, ytrain.values)\n",
    "    \n",
    "    predict_label = my_model.predict(Xtest)\n",
    "\n",
    "    #the original label is ytest\n",
    "    true_label = ytest.values\n",
    "    \n",
    "    print accuracy_score(true_label, predict_label)\n",
    "    print \"Model accuracy is: {}%\".format(num.round(accuracy_score(true_label, predict_label)*100, decimals=2))\n",
    "\n",
    "    print \"Confusion Matrix is :\"\n",
    "    print confusion_matrix(true_label, predict_label)\n",
    "    print\n",
    "    print \"Precision score is :\",precision_score(true_label, predict_label,average='weighted')\n",
    "\n",
    "    print \"Recall score is: \",recall_score(true_label, predict_label,average='weighted')"
   ]
  },
  {
   "cell_type": "code",
   "execution_count": 578,
   "metadata": {},
   "outputs": [
    {
     "name": "stdout",
     "output_type": "stream",
     "text": [
      "0.839522546419\n",
      "Model accuracy is: 83.95%\n",
      "Confusion Matrix is :\n",
      "[[62  0  1  3  0  1  1  0  4  0]\n",
      " [ 0 87  0  0  0  2  0  0  0  0]\n",
      " [ 0  1 54  2  2  1  5  1  6  0]\n",
      " [ 0  2  2 70  0  6  0  0  1  0]\n",
      " [ 1  0  1  1 58  1  1  0  1  3]\n",
      " [ 3  0  0  6  1 54  3  0  4  1]\n",
      " [ 1  0  1  0  0  0 63  0  5  0]\n",
      " [ 0  1  5  2  2  0  0 70  6  1]\n",
      " [ 1  7  3  2  0  3  0  0 55  1]\n",
      " [ 1  0  0  1  5  1  1  2  1 60]]\n",
      "\n",
      "Precision score is : 0.844280698491\n",
      "Recall score is:  0.839522546419\n"
     ]
    }
   ],
   "source": [
    "onevsrestClassifier(1)"
   ]
  },
  {
   "cell_type": "markdown",
   "metadata": {},
   "source": [
    "### 2.2 Choosing the best hyper-parameter"
   ]
  },
  {
   "cell_type": "code",
   "execution_count": 579,
   "metadata": {
    "collapsed": true
   },
   "outputs": [],
   "source": [
    "def choosebestvalhyperparameter(val):\n",
    "    trials=10\n",
    "    c_val = 1/val\n",
    "    my_model = LogisticRegression(C=c_val,penalty='l1')\n",
    "    model_accs  = num.zeros(trials)  # storing model accuracy\n",
    "      \n",
    "    for i in range(0,trials):\n",
    "        Dtrain, Dval = train_test_split(train.iloc[:,:], test_size=0.3)\n",
    "    \n",
    "        #print Dtrain\n",
    "        #print Dval\n",
    "        Xtrain = Dtrain.iloc[:, 1:]\n",
    "        ytrain = Dtrain.iloc[:,0]\n",
    "\n",
    "        #print Xtrain\n",
    "        #print ytrain\n",
    "        Xval = Dval.iloc[:, 1:]\n",
    "        yval = Dval.iloc[:,0]\n",
    "        \n",
    "        my_model.fit(Xtrain,ytrain)\n",
    "        \n",
    "        ypredicts = my_model.predict(Xval)\n",
    "        ytruelabels = yval\n",
    "        model_accs[i]  = accuracy_score(ytruelabels, ypredicts)\n",
    "        \n",
    "    return num.mean(model_accs)"
   ]
  },
  {
   "cell_type": "code",
   "execution_count": 580,
   "metadata": {},
   "outputs": [
    {
     "name": "stdout",
     "output_type": "stream",
     "text": [
      "Accuracy Score when alpha is 0.1 using L1 model is : 0.843396226415\n",
      "Accuracy Score when alpha is 1 using L1 model is : 0.840377358491\n",
      "Accuracy Score when alpha is 3 using L1 model is : 0.842075471698\n",
      "Accuracy Score when alpha is 10 using L1 model is : 0.830754716981\n",
      "Accuracy Score when alpha is 33 using L1 model is : 0.837547169811\n",
      "Accuracy Score when alpha is 100 using L1 model is : 0.856037735849\n",
      "Accuracy Score when alpha is 333 using L1 model is : 0.866603773585\n",
      "Accuracy Score when alpha is 1000 using L1 model is : 0.852641509434\n",
      "Accuracy Score when alpha is 3333 using L1 model is : 0.806226415094\n",
      "Accuracy Score when alpha is 10000 using L1 model is : 0.70679245283\n",
      "Accuracy Score when alpha is 33333 using L1 model is : 0.542264150943\n",
      "Best Alpha: 333\n"
     ]
    }
   ],
   "source": [
    "alpha_vals = [0.1, 1, 3, 10, 33, 100, 333, 1000, 3333, 10000, 33333]\n",
    "\n",
    "l1_val_acc = num.zeros(len(alpha_vals))\n",
    "index=0\n",
    "\n",
    "for l in alpha_vals:\n",
    "    l1_val_acc[index] = choosebestvalhyperparameter(num.float(l))\n",
    "    index+=1\n",
    "\n",
    "index = 0\n",
    "for acc_val in alpha_vals:\n",
    "    print \"Accuracy Score when alpha is {} using L1 model is : {}\".format(alpha_vals[index],l1_val_acc[index])\n",
    "    index+=1\n",
    "    \n",
    "max_index_l1_val  = num.argmax(l1_val_acc)\n",
    "best_val_alpha = alpha_vals[max_index_l1_val]\n",
    "    \n",
    "print \"Best Alpha: {}\".format(best_val_alpha)"
   ]
  },
  {
   "cell_type": "code",
   "execution_count": 581,
   "metadata": {
    "collapsed": true
   },
   "outputs": [],
   "source": [
    "def choosebesttrainhyperparameter(val):\n",
    "    trials=10\n",
    "    c_val = 1/val\n",
    "    my_model = LogisticRegression(C=c_val,penalty='l1')\n",
    "    model_accs  = num.zeros(trials)  # storing model accuracy\n",
    "        \n",
    "    for i in range(0,trials):\n",
    "        Dtrain, Dval = train_test_split(data.iloc[:,:], test_size=0.3)\n",
    "    \n",
    "        Xtrain = Dtrain.iloc[:, 1:]\n",
    "        ytrain = Dtrain.iloc[:,0]\n",
    "\n",
    "        Xtest = Dval.iloc[:, 1:]\n",
    "        ytest = Dval.iloc[:,0]\n",
    "                \n",
    "        my_model.fit(Xtrain,ytrain)\n",
    "        \n",
    "        ypredicts = my_model.predict(Xtest)\n",
    "        ytruelabels = ytest\n",
    "        model_accs[i]  = accuracy_score(ytruelabels, ypredicts)\n",
    "        \n",
    "    return num.mean(model_accs)"
   ]
  },
  {
   "cell_type": "code",
   "execution_count": 582,
   "metadata": {},
   "outputs": [
    {
     "name": "stdout",
     "output_type": "stream",
     "text": [
      "Accuracy Score when alpha is 0.1 using L1 model is : 0.831613756614\n",
      "Accuracy Score when alpha is 1 using L1 model is : 0.832407407407\n",
      "Accuracy Score when alpha is 3 using L1 model is : 0.839285714286\n",
      "Accuracy Score when alpha is 10 using L1 model is : 0.838888888889\n",
      "Accuracy Score when alpha is 33 using L1 model is : 0.843518518519\n",
      "Accuracy Score when alpha is 100 using L1 model is : 0.856878306878\n",
      "Accuracy Score when alpha is 333 using L1 model is : 0.869708994709\n",
      "Accuracy Score when alpha is 1000 using L1 model is : 0.86044973545\n",
      "Accuracy Score when alpha is 3333 using L1 model is : 0.833862433862\n",
      "Accuracy Score when alpha is 10000 using L1 model is : 0.73544973545\n",
      "Accuracy Score when alpha is 33333 using L1 model is : 0.604100529101\n",
      "Best Alpha: 333\n"
     ]
    }
   ],
   "source": [
    "alpha_vals = [0.1, 1, 3, 10, 33, 100, 333, 1000, 3333, 10000, 33333]\n",
    "\n",
    "l1_train_acc = num.zeros(len(alpha_vals))\n",
    "index=0\n",
    "\n",
    "for l in alpha_vals:\n",
    "    l1_train_acc[index] = choosebesttrainhyperparameter(num.float(l))\n",
    "    index+=1\n",
    "\n",
    "index = 0\n",
    "for acc_val in alpha_vals:\n",
    "    print \"Accuracy Score when alpha is {} using L1 model is : {}\".format(alpha_vals[index],l1_train_acc[index])\n",
    "    index+=1\n",
    "    \n",
    "max_index_l1_train  = num.argmax(l1_train_acc)\n",
    "best_train_alpha = alpha_vals[max_index_l1_train]\n",
    "    \n",
    "print \"Best Alpha: {}\".format(best_train_alpha)"
   ]
  },
  {
   "cell_type": "code",
   "execution_count": 583,
   "metadata": {},
   "outputs": [
    {
     "data": {
      "text/plain": [
       "<matplotlib.legend.Legend at 0x10886e10>"
      ]
     },
     "execution_count": 583,
     "metadata": {},
     "output_type": "execute_result"
    },
    {
     "data": {
      "image/png": "[encoded data removed]",
      "text/plain": [
       "<matplotlib.figure.Figure at 0xcf21a58>"
      ]
     },
     "metadata": {},
     "output_type": "display_data"
    }
   ],
   "source": [
    "#plot the accuracy curve\n",
    "plt.plot(range(0,len(alpha_vals)), l1_val_acc, color='b', label='Validation Acuracy')\n",
    "plt.plot(range(0,len(alpha_vals)), l1_train_acc, color='r', label='Training Accuracy')\n",
    "#replace the x-axis labels with penalty values\n",
    "plt.xticks(range(0,len(alpha_vals)), alpha_vals, rotation='vertical') \n",
    "\n",
    "#Highlight the best values of alpha and lambda\n",
    "plt.plot((max_index_l1_val, max_index_l1_val), (0, l1_val_acc[max_index_l1_val]), ls='dotted', color='b')\n",
    "plt.plot((max_index_l1_train, max_index_l1_train), (0, l1_train_acc[max_index_l1_train]), ls='dotted', color='r')\n",
    "\n",
    "#Set the y-axis from 0 to 1.0\n",
    "axes = plt.gca()\n",
    "axes.set_ylim([0, 1.0])\n",
    "\n",
    "plt.legend(loc=\"lower left\")"
   ]
  },
  {
   "cell_type": "markdown",
   "metadata": {},
   "source": [
    "The above graph represents the graph for validation accuracy and training accuracy. Accuracy score is constant for the alpha values till alpha=333.From there the accuracy score is decreasing for the increase in alpha values which indicates the region of overfitting.  "
   ]
  },
  {
   "cell_type": "markdown",
   "metadata": {},
   "source": [
    "#### We got the best alpha values from the above computation and now we will evaluate the performance on the test data and find \n",
    "1. Number of non-zero features\n",
    "2. Confusion matrix\n",
    "3. Precision\n",
    "4. Accuracy"
   ]
  },
  {
   "cell_type": "code",
   "execution_count": 584,
   "metadata": {
    "collapsed": true
   },
   "outputs": [],
   "source": [
    "def retrainfinalModel(val):\n",
    "    \n",
    "    c_val=num.float(1/val)\n",
    "    my_model = LogisticRegression(C=c_val,penalty='l1')\n",
    "\n",
    "    #Create the training/testing data and labels\n",
    "    Xtrain = train.iloc[:,:]\n",
    "    ytrain = train.iloc[:,0]\n",
    "\n",
    "    #lb = preprocessing.LabelBinarizer()\n",
    "    #lb.fit(ytrain.values)\n",
    "\n",
    "    Xtest = test.iloc[:,:]\n",
    "    ytest = test.iloc[:,0]\n",
    "    \n",
    "    my_model.fit(Xtrain.values, ytrain.values)\n",
    "    \n",
    "    predict_label = my_model.predict(Xtest)\n",
    "\n",
    "    #the original label is ytest\n",
    "    true_label = ytest.values\n",
    "\n",
    "    print \"Number of non-zero feautres are: \", num.count_nonzero(my_model.coef_)\n",
    "    print\n",
    "\n",
    "    print \"Confusion Matrix is :\"\n",
    "    print confusion_matrix(true_label, predict_label)\n",
    "    \n",
    "    cm = confusion_matrix(true_label, predict_label)\n",
    "    TP = num.diag(cm)\n",
    "    FP = cm.sum(axis=0) - num.diag(cm)\n",
    "    FN = cm.sum(axis=1) - num.diag(cm)\n",
    "    TN = cm.sum() - (FP + FN + TP)\n",
    "    \n",
    "    i = 0\n",
    "    \n",
    "    precision = []\n",
    "    recall = []\n",
    "    accuracy = []\n",
    "    \n",
    "    while i in range(0,10):\n",
    "        precision.append(float(TP[i])/float(TP[i] + FP[i]))\n",
    "        recall.append(float(TP[i])/float(TP[i]+FN[i]))\n",
    "        accuracy.append(float(TP[i] + TN[i])/float(TP[i]+TN[i]+FP[i]+FN[i])*100)\n",
    "        i+=1\n",
    "    \n",
    "    i=0\n",
    "    print\n",
    "    print \"Labels                    Precision                        Recall                               Accuracy\"\n",
    "    while i in range(0,10):\n",
    "           print \"{}                        {}                   {}                        {}\" .format(i,precision[i],recall[i],accuracy[i])\n",
    "           print\n",
    "           i+=1"
   ]
  },
  {
   "cell_type": "code",
   "execution_count": 585,
   "metadata": {},
   "outputs": [
    {
     "name": "stdout",
     "output_type": "stream",
     "text": [
      "Number of non-zero feautres are:  2588\n",
      "\n",
      "Confusion Matrix is :\n",
      "[[63  0  1  3  0  0  1  0  4  0]\n",
      " [ 0 87  0  0  0  2  0  0  0  0]\n",
      " [ 0  1 53  2  2  1  6  1  6  0]\n",
      " [ 0  1  2 71  0  6  0  0  1  0]\n",
      " [ 1  0  1  1 58  1  1  0  1  3]\n",
      " [ 3  0  0  6  1 54  3  0  4  1]\n",
      " [ 1  0  1  0  0  0 63  0  5  0]\n",
      " [ 0  1  5  2  2  0  0 71  5  1]\n",
      " [ 1  5  3  2  0  4  0  0 55  2]\n",
      " [ 1  0  0  1  5  1  1  1  2 60]]\n",
      "\n",
      "Labels                    Precision                        Recall                               Accuracy\n",
      "0                        0.9                   0.875                        97.8779840849\n",
      "\n",
      "1                        0.915789473684                   0.977528089888                        98.6737400531\n",
      "\n",
      "2                        0.80303030303                   0.736111111111                        95.7559681698\n",
      "\n",
      "3                        0.806818181818                   0.876543209877                        96.4190981432\n",
      "\n",
      "4                        0.852941176471                   0.865671641791                        97.4801061008\n",
      "\n",
      "5                        0.782608695652                   0.75                        95.6233421751\n",
      "\n",
      "6                        0.84                   0.9                        97.4801061008\n",
      "\n",
      "7                        0.972602739726                   0.816091954023                        97.6127320955\n",
      "\n",
      "8                        0.66265060241                   0.763888888889                        94.0318302387\n",
      "\n",
      "9                        0.89552238806                   0.833333333333                        97.4801061008\n",
      "\n"
     ]
    }
   ],
   "source": [
    "retrainfinalModel(num.float(best_alpha))"
   ]
  },
  {
   "cell_type": "markdown",
   "metadata": {},
   "source": [
    "#### Comments on Over-fitting/ Under fitting\n",
    "We can observe that for alpha values  0.1,1,3,10,33,100,333,1000,3333,10000,33333 we can observe that there is a raise in the accuracy score of training data and validation data. But there is a sudden drop in accuracy from 86% to 82% when alpha = 3333. It is indicating that model is reponding highly for smaller change in the alpha value. So this model is overfitting.  "
   ]
  }
 ],
 "metadata": {
  "kernelspec": {
   "display_name": "Python 2",
   "language": "python",
   "name": "python2"
  },
  "language_info": {
   "codemirror_mode": {
    "name": "ipython",
    "version": 2
   },
   "file_extension": ".py",
   "mimetype": "text/x-python",
   "name": "python",
   "nbconvert_exporter": "python",
   "pygments_lexer": "ipython2",
   "version": "2.7.13"
  }
 },
 "nbformat": 4,
 "nbformat_minor": 1
}
